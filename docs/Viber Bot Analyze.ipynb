{
 "cells": [
  {
   "cell_type": "code",
   "execution_count": 118,
   "metadata": {
    "collapsed": true,
    "deletable": true,
    "editable": true
   },
   "outputs": [],
   "source": [
    "import json\n",
    "import hmac\n",
    "import hashlib\n",
    "import requests"
   ]
  },
  {
   "cell_type": "code",
   "execution_count": 114,
   "metadata": {
    "collapsed": false,
    "deletable": true,
    "editable": true
   },
   "outputs": [],
   "source": [
    "key = '4453b6ac12345678-e02c5f12174805f9-daec9cbb5448c51f'\n",
    "\n",
    "message = b'{  \\n   \"event\":\"delivered\",\\n   \"timestamp\":1457764197627,\\n   \"message_token\":491266184665523145,\\n   \"user_id\":\"01234567890A=\"\\n}'\n",
    "digestmod = hashlib.sha256"
   ]
  },
  {
   "cell_type": "code",
   "execution_count": 115,
   "metadata": {
    "collapsed": false,
    "deletable": true,
    "editable": true
   },
   "outputs": [
    {
     "data": {
      "text/plain": [
       "b'{  \\n   \"event\":\"delivered\",\\n   \"timestamp\":1457764197627,\\n   \"message_token\":491266184665523145,\\n   \"user_id\":\"01234567890A=\"\\n}'"
      ]
     },
     "execution_count": 115,
     "metadata": {},
     "output_type": "execute_result"
    }
   ],
   "source": [
    "message"
   ]
  },
  {
   "cell_type": "code",
   "execution_count": 116,
   "metadata": {
    "collapsed": false,
    "deletable": true,
    "editable": true
   },
   "outputs": [
    {
     "data": {
      "text/plain": [
       "'5e9651cc5460edabfacba5a9ea642225bf32f9c3aa4f71388fdb94fd2fba6a18'"
      ]
     },
     "execution_count": 116,
     "metadata": {},
     "output_type": "execute_result"
    }
   ],
   "source": [
    "hmac.new(bytes(key.encode('ascii')), msg=message, digestmod=hashlib.sha256).hexdigest()"
   ]
  },
  {
   "cell_type": "code",
   "execution_count": 238,
   "metadata": {
    "collapsed": true,
    "deletable": true,
    "editable": true
   },
   "outputs": [],
   "source": [
    "def build_signature(key, message):\n",
    "    return hmac.new(bytes(key.encode('ascii')), msg=json.dumps(message, sort_keys=False).encode('utf-8'), digestmod=hashlib.sha256).hexdigest()"
   ]
  },
  {
   "cell_type": "code",
   "execution_count": 230,
   "metadata": {
    "collapsed": true,
    "deletable": true,
    "editable": true
   },
   "outputs": [],
   "source": [
    "def verify_signature(key, message, signature):\n",
    "    resp = requests.post(\n",
    "        url='https://intense-reaches-70533.herokuapp.com/verify_signature',\n",
    "        headers={\n",
    "            'Content-Type': 'application/json',\n",
    "            'X-Viber-Content-Signature': signature\n",
    "        },\n",
    "        json=message\n",
    "    )\n",
    "    return resp.json()"
   ]
  },
  {
   "cell_type": "code",
   "execution_count": 240,
   "metadata": {
    "collapsed": false,
    "deletable": true,
    "editable": true
   },
   "outputs": [],
   "source": [
    "key = '4453b6ac12345678-e02c5f12174805f9-daec9cbb5448c51f'\n",
    "message = {  \n",
    "   \"event\":\"delivered\",\n",
    "   \"timestamp\":1457764197627,\n",
    "   \"message_token\":491266184665523145,\n",
    "   \"user_id\":\"01234567890A=\"\n",
    "}\n",
    "signature = '9d3941b33d45c165400d84dba9328ee0b687a5a18b347617091be0a56d'"
   ]
  },
  {
   "cell_type": "code",
   "execution_count": 243,
   "metadata": {
    "collapsed": false,
    "deletable": true,
    "editable": true
   },
   "outputs": [
    {
     "data": {
      "text/plain": [
       "'de5f9d37336cdabaf5f8230d3e704fb412c50c422b48c22adde4030f9912a731'"
      ]
     },
     "execution_count": 243,
     "metadata": {},
     "output_type": "execute_result"
    }
   ],
   "source": [
    "build_signature(key, message)"
   ]
  },
  {
   "cell_type": "code",
   "execution_count": 244,
   "metadata": {
    "collapsed": false,
    "deletable": true,
    "editable": true
   },
   "outputs": [
    {
     "data": {
      "text/plain": [
       "{'X-Viber-Content-Signature': 'de5f9d37336cdabaf5f8230d3e704fb412c50c422b48c22adde4030f9912a731',\n",
       " 'X-Viber-Content-Signature-Is-True': False,\n",
       " 'message': '{\"timestamp\": 1457764197627, \"user_id\": \"01234567890A=\", \"event\": \"delivered\", \"message_token\": 491266184665523145}'}"
      ]
     },
     "execution_count": 244,
     "metadata": {},
     "output_type": "execute_result"
    }
   ],
   "source": [
    "verify_signature(key, message, signature)"
   ]
  },
  {
   "cell_type": "code",
   "execution_count": null,
   "metadata": {
    "collapsed": true,
    "deletable": true,
    "editable": true
   },
   "outputs": [],
   "source": []
  }
 ],
 "metadata": {
  "kernelspec": {
   "display_name": "Python 3",
   "language": "python",
   "name": "python3"
  },
  "language_info": {
   "codemirror_mode": {
    "name": "ipython",
    "version": 3
   },
   "file_extension": ".py",
   "mimetype": "text/x-python",
   "name": "python",
   "nbconvert_exporter": "python",
   "pygments_lexer": "ipython3",
   "version": "3.5.1"
  }
 },
 "nbformat": 4,
 "nbformat_minor": 2
}
